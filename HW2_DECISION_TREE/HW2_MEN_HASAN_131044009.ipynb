{
 "cells": [
  {
   "cell_type": "code",
   "execution_count": 35,
   "metadata": {},
   "outputs": [],
   "source": [
    "class Abalone():\n",
    "    def __init__(self, sex, length, diameter, height, wholeHeight, shuckedWeight, visceraWeight, shellWeight, rings):\n",
    "        self.sex=sex\n",
    "        self.length=length\n",
    "        self.diameter=diameter\n",
    "        self.height=height\n",
    "        self.wholeHeight=wholeHeight\n",
    "        self.shuckedWeight=shuckedWeight\n",
    "        self.visceraWeight=visceraWeight\n",
    "        self.shellWeight=shellWeight\n",
    "        self.rings=rings\n",
    "        \n",
    "    def __repr__(self):\n",
    "        str = \"Sex:{sex}\\nLength:{length}\\nDiameter:{diameter}\\nHeigth:{height}\\n\"\\\n",
    "        \"WholeHeight:{wholeHeight}\\nShuckedWeight:{shuckedWeight}\\n\"\\\n",
    "        \"VisceraWeight:{visceraWeight}\\nShellWeight:{shellWeight}\\nRings:{rings}\\n\"\n",
    "        str = str.format(sex=self.sex, length=self.length, diameter = self.diameter,\n",
    "                        height=self.height,wholeHeight=self.wholeHeight,shuckedWeight=self.shuckedWeight,\n",
    "                         visceraWeight=self.visceraWeight, shellWeight=self.shellWeight, rings=self.rings)\n",
    "        return str\n",
    "            "
   ]
  },
  {
   "cell_type": "code",
   "execution_count": 36,
   "metadata": {},
   "outputs": [
    {
     "name": "stdout",
     "output_type": "stream",
     "text": [
      "Sex:M\n",
      "Length:0.455\n",
      "Diameter:0.365\n",
      "Heigth:0.095\n",
      "WholeHeight:0.514\n",
      "ShuckedWeight:0.2245\n",
      "VisceraWeight:0.101\n",
      "ShellWeight:0.15\n",
      "Rings:15\n",
      "\n"
     ]
    }
   ],
   "source": [
    "def readAbaloneData():\n",
    "    abalones = []\n",
    "    try:\n",
    "        with open(\"data/abalone.data\",\"r\") as f:\n",
    "            for line in f.read().splitlines():\n",
    "                sd = line.split(\",\") # split data\n",
    "                abalones.append(Abalone(sd[0],sd[1],sd[2],sd[3],sd[4],sd[5],sd[6],sd[7],sd[8]))\n",
    "    except Exception as e:\n",
    "        print(\"Exception:\",str(e))\n",
    "        abalones = []\n",
    "    return abalones\n",
    "abalones = readAbaloneData()\n",
    "print(abalones[0])"
   ]
  },
  {
   "cell_type": "code",
   "execution_count": null,
   "metadata": {},
   "outputs": [],
   "source": [
    "def build_dt(X, y, attribute_types, options):\n",
    "    "
   ]
  },
  {
   "cell_type": "code",
   "execution_count": null,
   "metadata": {},
   "outputs": [],
   "source": []
  }
 ],
 "metadata": {
  "kernelspec": {
   "display_name": "MachineLearn",
   "language": "python",
   "name": "machinelearn"
  },
  "language_info": {
   "codemirror_mode": {
    "name": "ipython",
    "version": 3
   },
   "file_extension": ".py",
   "mimetype": "text/x-python",
   "name": "python",
   "nbconvert_exporter": "python",
   "pygments_lexer": "ipython3",
   "version": "3.5.2"
  }
 },
 "nbformat": 4,
 "nbformat_minor": 2
}
