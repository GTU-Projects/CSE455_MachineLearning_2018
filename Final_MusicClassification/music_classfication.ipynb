{
 "cells": [
  {
   "cell_type": "code",
   "execution_count": 1,
   "metadata": {},
   "outputs": [],
   "source": [
    "import librosa\n",
    "import os\n",
    "import numpy as np\n",
    "import random\n",
    "\n",
    "from sklearn import svm\n",
    "from sklearn.neighbors import KNeighborsClassifier\n",
    "from sklearn.tree import DecisionTreeRegressor\n",
    "from sklearn.ensemble import AdaBoostRegressor\n",
    "from sklearn.model_selection import KFold\n",
    "from sklearn.metrics import classification_report, accuracy_score"
   ]
  },
  {
   "cell_type": "code",
   "execution_count": 2,
   "metadata": {},
   "outputs": [
    {
     "name": "stdout",
     "output_type": "stream",
     "text": [
      "Walk on dir: genres\n",
      "Walk on dir: genres/pop\n",
      "Walk on dir: genres/blues\n",
      "Walk on dir: genres/classical\n",
      "Walk on dir: genres/country\n",
      "Walk on dir: genres/hiphop\n",
      "Walk on dir: genres/rock\n",
      "Walk on dir: genres/reggae\n",
      "Walk on dir: genres/metal\n",
      "Walk on dir: genres/disco\n",
      "Walk on dir: genres/jazz\n"
     ]
    }
   ],
   "source": [
    "walk_dir = \"genres\"\n",
    "\n",
    "Y = {'metal': 0, 'disco': 1, 'classical': 2, 'hiphop': 3, 'jazz': 4,\n",
    "     'country': 5, 'pop': 6, 'blues': 7, 'reggae': 8, 'rock': 9}\n",
    "\n",
    "all_input_data = []\n",
    "all_input_class = []\n",
    "for root, subdirs, files in os.walk(walk_dir):\n",
    "    print(\"Walk on dir:\",root)\n",
    "    for filename in files:\n",
    "        if filename.endswith('.au'):\n",
    "            file_path = os.path.join(root, filename)\n",
    "            ppFileName = file_path.replace(\".au\",\".pp\")\n",
    "            try:\n",
    "                signal, fs = librosa.load(file_path, offset=12, duration=6)\n",
    "                mfccs = librosa.feature.mfcc(signal, sr=fs, n_mfcc=12)\n",
    "                l = mfccs.shape[1]\n",
    "                mfccs = mfccs[:, int(0.2 * l):int(0.8 * l)]\n",
    "\n",
    "                mean = mfccs.mean(axis=1)\n",
    "                covar = np.cov(mfccs, rowvar=1)\n",
    "\n",
    "                mean.resize(1, mean.shape[0])\n",
    "                # it returns matrix.. not useful for machine learning algorithms except KNN\n",
    "                npArray = np.concatenate((mean, covar), axis=0)\n",
    "                templist = []\n",
    "                for ls in np.nditer(npArray):\n",
    "                    templist.append(ls)\n",
    "                    \n",
    "                all_input_data.append(templist)\n",
    "                all_input_class.append(Y[filename.split('.')[0]])\n",
    "\n",
    "            except Exception as e:\n",
    "                print (\"Error accured\" + str(e))"
   ]
  },
  {
   "cell_type": "code",
   "execution_count": 77,
   "metadata": {},
   "outputs": [
    {
     "name": "stdout",
     "output_type": "stream",
     "text": [
      "Shuffle input data to get better results\n",
      "->all_input_shuffledData: 1000\n",
      "->all_input_shuffledClass: 1000\n"
     ]
    }
   ],
   "source": [
    "print(\"Shuffle input data to get better results\")\n",
    "\n",
    "c = list(zip(all_input_data, all_input_class))\n",
    "random.shuffle(c)\n",
    "all_input_shuffledData, all_input_shuffledClass= zip(*c)\n",
    "\n",
    "print(\"->all_input_shuffledData:\",len(all_input_shuffledData))\n",
    "print(\"->all_input_shuffledClass:\",len(all_input_class))"
   ]
  },
  {
   "cell_type": "code",
   "execution_count": 78,
   "metadata": {},
   "outputs": [
    {
     "name": "stdout",
     "output_type": "stream",
     "text": [
      "KNN Score:  0.415\n",
      "KNN Score:  0.38\n",
      "KNN Score:  0.415\n",
      "KNN Score:  0.43\n",
      "KNN Score:  0.41\n"
     ]
    }
   ],
   "source": [
    "kf = KFold(n_splits=5)\n",
    "\n",
    "for trainIndex, testIndex in kf.split(all_input_data):\n",
    "    X_train, X_test = [all_input_shuffledData[i] for i in trainIndex], [all_input_shuffledData[i] for i in testIndex]\n",
    "    y_train, y_test = [all_input_shuffledClass[i] for i in trainIndex], [all_input_shuffledClass[i] for i in testIndex]\n",
    "    \n",
    "    knn = KNeighborsClassifier(n_neighbors=5, weights='uniform', algorithm='auto', leaf_size=30, p=2,metric='minkowski', metric_params=None, n_jobs=1)\n",
    "    knn.fit(X_train,y_train)\n",
    "    k_score = knn.score(X_test,y_test)\n",
    "    print(\"KNN Score: \", k_score)"
   ]
  },
  {
   "cell_type": "code",
   "execution_count": 79,
   "metadata": {},
   "outputs": [
    {
     "name": "stdout",
     "output_type": "stream",
     "text": [
      "Support Vector Machines:  0.55\n",
      "Support Vector Machines:  0.555\n",
      "Support Vector Machines:  0.56\n",
      "Support Vector Machines:  0.605\n",
      "Support Vector Machines:  0.575\n"
     ]
    }
   ],
   "source": [
    "kf = KFold(n_splits=5)\n",
    "\n",
    "for trainIndex, testIndex in kf.split(all_input_data):\n",
    "    X_train, X_test = [all_input_shuffledData[i] for i in trainIndex], [all_input_shuffledData[i] for i in testIndex]\n",
    "    y_train, y_test = [all_input_shuffledClass[i] for i in trainIndex], [all_input_shuffledClass[i] for i in testIndex]\n",
    "    \n",
    "    svm1 = svm.LinearSVC(C=10, loss='squared_hinge', penalty='l2', tol=0.00001)\n",
    "    svm1.fit(X_train,y_train)\n",
    "    scoreSVM = svm1.score(X_test, y_test)\n",
    "    print(\"Support Vector Machines: \", scoreSVM)   \n",
    "   "
   ]
  },
  {
   "cell_type": "code",
   "execution_count": 80,
   "metadata": {},
   "outputs": [
    {
     "name": "stdout",
     "output_type": "stream",
     "text": [
      "Decision tree score1:  -0.022567908637571632 Adaboost score2:  0.24798867214946507\n",
      "Decision tree score1:  -0.18540590300477966 Adaboost score2:  0.3166984249696524\n",
      "Decision tree score1:  -0.0888012976983561 Adaboost score2:  0.381309994162552\n",
      "Decision tree score1:  0.03667516749467281 Adaboost score2:  0.30448110467238054\n",
      "Decision tree score1:  0.12437013731627988 Adaboost score2:  0.3275883002957373\n"
     ]
    }
   ],
   "source": [
    "kf = KFold(n_splits=5)\n",
    "\n",
    "for trainIndex, testIndex in kf.split(all_input_data):\n",
    "    X_train, X_test = [all_input_shuffledData[i] for i in trainIndex], [all_input_shuffledData[i] for i in testIndex]\n",
    "    y_train, y_test = [all_input_shuffledClass[i] for i in trainIndex], [all_input_shuffledClass[i] for i in testIndex]\n",
    "    \n",
    "    regr_1 = DecisionTreeRegressor(max_depth=6)\n",
    "    regr_2 = AdaBoostRegressor(DecisionTreeRegressor(max_depth=6), n_estimators=300)\n",
    "    regr_1.fit(X_train, y_train)\n",
    "    regr_2.fit(X_train, y_train)\n",
    "    y_1 = regr_1.predict(X_test)\n",
    "    y_2 = regr_2.predict(X_test)\n",
    "    score1 = regr_1.score(X_test, y_test)\n",
    "    score2 = regr_2.score(X_test, y_test)\n",
    "    print(\"Decision tree score1: \", score1, \"Adaboost score2: \", score2)\n"
   ]
  }
 ],
 "metadata": {
  "kernelspec": {
   "display_name": "Python 3",
   "language": "python",
   "name": "python3"
  },
  "language_info": {
   "codemirror_mode": {
    "name": "ipython",
    "version": 3
   },
   "file_extension": ".py",
   "mimetype": "text/x-python",
   "name": "python",
   "nbconvert_exporter": "python",
   "pygments_lexer": "ipython3",
   "version": "3.6.5"
  }
 },
 "nbformat": 4,
 "nbformat_minor": 2
}
