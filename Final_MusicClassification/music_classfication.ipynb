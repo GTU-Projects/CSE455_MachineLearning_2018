{
 "cells": [
  {
   "cell_type": "code",
   "execution_count": 56,
   "metadata": {},
   "outputs": [],
   "source": [
    "import librosa\n",
    "import os, gc\n",
    "import numpy as np\n",
    "import random\n",
    "\n",
    "from sklearn import svm\n",
    "from sklearn.cluster import KMeans\n",
    "from sklearn.neighbors import KNeighborsClassifier\n",
    "from sklearn.tree import DecisionTreeClassifier\n",
    "from sklearn.model_selection import KFold\n",
    "from sklearn.metrics import classification_report, accuracy_score\n",
    "\n",
    "import xgboost as xgb"
   ]
  },
  {
   "cell_type": "code",
   "execution_count": 103,
   "metadata": {},
   "outputs": [],
   "source": [
    "def extractMfccFeature(filepath):\n",
    "    try:\n",
    "        signal, fs = librosa.load(file_path, offset=12, duration=6)\n",
    "        mfccs = librosa.feature.mfcc(signal, sr=fs, n_mfcc=12)\n",
    "        l = mfccs.shape[1]\n",
    "        mfccs = mfccs[:, int(0.2 * l):int(0.8 * l)]\n",
    "\n",
    "        mean = mfccs.mean(axis=1)\n",
    "        covar = np.cov(mfccs, rowvar=1)\n",
    "\n",
    "        mean.resize(1, mean.shape[0])\n",
    "        # it returns matrix.. not useful for machine learning algorithms except KNN\n",
    "        npArray = np.concatenate((mean, covar), axis=0)\n",
    "        npArray = npArray.flatten()\n",
    "        return npArray\n",
    "    except Exception as e:\n",
    "        print (\"Error accured\" + str(e))\n",
    "        return None"
   ]
  },
  {
   "cell_type": "code",
   "execution_count": 48,
   "metadata": {},
   "outputs": [
    {
     "name": "stdout",
     "output_type": "stream",
     "text": [
      "Walk on dir: genres Total File: 0\n",
      "Walk on dir: genres/pop Total File: 100\n",
      "Walk on dir: genres/blues Total File: 100\n",
      "Walk on dir: genres/classical Total File: 100\n",
      "Walk on dir: genres/country Total File: 100\n",
      "Walk on dir: genres/hiphop Total File: 100\n",
      "Walk on dir: genres/rock Total File: 100\n",
      "Walk on dir: genres/reggae Total File: 100\n",
      "Walk on dir: genres/metal Total File: 100\n",
      "Walk on dir: genres/disco Total File: 100\n",
      "Walk on dir: genres/jazz Total File: 100\n",
      "CPU times: user 7min 57s, sys: 4min 18s, total: 12min 16s\n",
      "Wall time: 6min 34s\n"
     ]
    }
   ],
   "source": [
    "%%time\n",
    "walk_dir = \"genres\"\n",
    "\n",
    "Y = {'metal': 0, 'disco': 1, 'classical': 2, 'hiphop': 3, 'jazz': 4,\n",
    "     'country': 5, 'pop': 6, 'blues': 7, 'reggae': 8, 'rock': 9}\n",
    "\n",
    "all_input_data = []\n",
    "all_input_class = []\n",
    "for root, subdirs, files in os.walk(walk_dir):\n",
    "    print(\"Walk on dir:\",root,'Total File:',len(files))\n",
    "    for filename in files:\n",
    "        if filename.endswith('.au'):\n",
    "            file_path = os.path.join(root, filename)\n",
    "            ppFileName = file_path.replace(\".au\",\".pp\")\n",
    "            feature = extractMfccFeature(ppFileName)\n",
    "            all_input_data.append(feature)\n",
    "            all_input_class.append(Y[filename.split('.')[0]])"
   ]
  },
  {
   "cell_type": "markdown",
   "metadata": {},
   "source": [
    "### Shuffling all data"
   ]
  },
  {
   "cell_type": "code",
   "execution_count": 95,
   "metadata": {},
   "outputs": [
    {
     "name": "stdout",
     "output_type": "stream",
     "text": [
      "Shuffle input data to get better results\n",
      "->all_input_shuffledData: (1000, 156)\n",
      "->all_input_shuffledClass: (1000,)\n",
      "CPU times: user 891 µs, sys: 375 µs, total: 1.27 ms\n",
      "Wall time: 714 µs\n"
     ]
    }
   ],
   "source": [
    "%%time\n",
    "print(\"Shuffle input data to get better results\")\n",
    "\n",
    "all_input_shuffledData = np.asarray(all_input_shuffledData)\n",
    "all_input_shuffledClass = np.asarray(all_input_shuffledClass)\n",
    "\n",
    "s = np.arange(all_input_shuffledData.shape[0])\n",
    "np.random.shuffle(s)\n",
    "\n",
    "all_input_shuffledData = all_input_shuffledData[s]\n",
    "all_input_shuffledClass = all_input_shuffledClass[s]\n",
    "\n",
    "print(\"->all_input_shuffledData:\",all_input_shuffledData.shape)\n",
    "print(\"->all_input_shuffledClass:\",all_input_shuffledClass.shape)"
   ]
  },
  {
   "cell_type": "markdown",
   "metadata": {},
   "source": [
    "### KNN"
   ]
  },
  {
   "cell_type": "code",
   "execution_count": 101,
   "metadata": {},
   "outputs": [
    {
     "name": "stdout",
     "output_type": "stream",
     "text": [
      "KNN Score:  0.36\n",
      "KNN Score:  0.37\n",
      "KNN Score:  0.38\n",
      "KNN Score:  0.37\n",
      "KNN Score:  0.37\n",
      "CPU times: user 172 ms, sys: 527 µs, total: 173 ms\n",
      "Wall time: 170 ms\n"
     ]
    }
   ],
   "source": [
    "%%time\n",
    "kf = KFold(n_splits=5)\n",
    "\n",
    "for trainIndex, testIndex in kf.split(all_input_shuffledData):\n",
    "    X_train, X_test = all_input_shuffledData[trainIndex], all_input_shuffledData[testIndex]\n",
    "    y_train, y_test = all_input_shuffledClass[trainIndex], all_input_shuffledClass[testIndex]\n",
    "    \n",
    "    knn = KNeighborsClassifier(n_neighbors=10)\n",
    "    knn.fit(X_train,y_train)\n",
    "    k_score = knn.score(X_test,y_test)\n",
    "    print(\"KNN Score: \", k_score)"
   ]
  },
  {
   "cell_type": "markdown",
   "metadata": {},
   "source": [
    "### SVM"
   ]
  },
  {
   "cell_type": "code",
   "execution_count": 102,
   "metadata": {},
   "outputs": [
    {
     "name": "stdout",
     "output_type": "stream",
     "text": [
      "Support Vector Machines:  0.455\n",
      "Support Vector Machines:  0.355\n",
      "Support Vector Machines:  0.45\n",
      "Support Vector Machines:  0.48\n",
      "Support Vector Machines:  0.47\n",
      "CPU times: user 9.42 s, sys: 32.3 ms, total: 9.45 s\n",
      "Wall time: 9.46 s\n"
     ]
    }
   ],
   "source": [
    "%%time\n",
    "kf = KFold(n_splits=5)\n",
    "\n",
    "for trainIndex, testIndex in kf.split(all_input_data):\n",
    "    X_train, X_test = all_input_shuffledData[trainIndex], all_input_shuffledData[testIndex]\n",
    "    y_train, y_test = all_input_shuffledClass[trainIndex], all_input_shuffledClass[testIndex]\n",
    "    \n",
    "    svm1 = svm.LinearSVC(C=10, loss='squared_hinge', penalty='l2', tol=0.00001)\n",
    "    svm1.fit(X_train,y_train)\n",
    "    scoreSVM = svm1.score(X_test, y_test)\n",
    "    print(\"Support Vector Machines: \", scoreSVM)   \n",
    "   "
   ]
  },
  {
   "cell_type": "markdown",
   "metadata": {},
   "source": [
    "### Decision Tree"
   ]
  },
  {
   "cell_type": "code",
   "execution_count": 86,
   "metadata": {},
   "outputs": [
    {
     "name": "stdout",
     "output_type": "stream",
     "text": [
      "Decision tree score1:  0.630862358543845\n",
      "Decision tree score1:  0.6451124689271654\n",
      "Decision tree score1:  0.5180215995884729\n",
      "Decision tree score1:  0.6437727589261453\n",
      "Decision tree score1:  0.6597542738543472\n",
      "CPU times: user 716 ms, sys: 6.03 ms, total: 722 ms\n",
      "Wall time: 716 ms\n"
     ]
    }
   ],
   "source": [
    "%%time\n",
    "kf = KFold(n_splits=5)\n",
    "\n",
    "for trainIndex, testIndex in kf.split(all_input_data):\n",
    "    X_train, X_test = all_input_shuffledData[trainIndex], all_input_shuffledData[testIndex]\n",
    "    y_train, y_test = all_input_shuffledClass[trainIndex], all_input_shuffledClass[testIndex]\n",
    "    \n",
    "    dt = DecisionTreeClassifier()\n",
    "    dt.fit(X_train, y_train)\n",
    "    score = regr_1.score(X_test, y_test)\n",
    "    print(\"Decision tree score1: \", score)\n"
   ]
  },
  {
   "cell_type": "markdown",
   "metadata": {},
   "source": [
    "### XGBoost"
   ]
  },
  {
   "cell_type": "code",
   "execution_count": 87,
   "metadata": {},
   "outputs": [
    {
     "name": "stdout",
     "output_type": "stream",
     "text": [
      "Accuracy Score: 0.595\n",
      "Accuracy Score: 0.64\n",
      "Accuracy Score: 0.66\n",
      "Accuracy Score: 0.65\n",
      "Accuracy Score: 0.54\n"
     ]
    }
   ],
   "source": [
    "kf = KFold(n_splits=5)\n",
    "\n",
    "for trainIndex, testIndex in kf.split(all_input_data):\n",
    "    X_train, X_test = all_input_shuffledData[trainIndex], all_input_shuffledData[testIndex]\n",
    "    y_train, y_test = all_input_shuffledClass[trainIndex], all_input_shuffledClass[testIndex]\n",
    "    \n",
    "    xgb_params = {\n",
    "        'eta': 0.05,\n",
    "        'max_depth': 5,\n",
    "        'subsample': 0.9,\n",
    "        'objective': 'multi:softmax',\n",
    "        'silent': 1,\n",
    "        'colsample_bytree': 0.9,\n",
    "        'num_class':10\n",
    "    }\n",
    "\n",
    "    d_train = xgb.DMatrix(X_train, y_train)\n",
    "    d_valid = xgb.DMatrix(X_test, y_test)\n",
    "    \n",
    "    model = xgb.train(xgb_params, d_train, num_boost_round = 240)\n",
    "    pred_prob = model.predict(d_valid)\n",
    "    print('Accuracy Score:',accuracy_score(y_test, pred_prob))\n"
   ]
  },
  {
   "cell_type": "code",
   "execution_count": 12,
   "metadata": {},
   "outputs": [
    {
     "data": {
      "text/plain": [
       "0"
      ]
     },
     "execution_count": 12,
     "metadata": {},
     "output_type": "execute_result"
    }
   ],
   "source": [
    "# run garbage collector manually\n",
    "gc.collect()"
   ]
  },
  {
   "cell_type": "code",
   "execution_count": null,
   "metadata": {},
   "outputs": [],
   "source": []
  }
 ],
 "metadata": {
  "kernelspec": {
   "display_name": "Python 3",
   "language": "python",
   "name": "python3"
  },
  "language_info": {
   "codemirror_mode": {
    "name": "ipython",
    "version": 3
   },
   "file_extension": ".py",
   "mimetype": "text/x-python",
   "name": "python",
   "nbconvert_exporter": "python",
   "pygments_lexer": "ipython3",
   "version": "3.6.5"
  }
 },
 "nbformat": 4,
 "nbformat_minor": 2
}
