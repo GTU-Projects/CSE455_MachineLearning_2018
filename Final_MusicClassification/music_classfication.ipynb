{
 "cells": [
  {
   "cell_type": "code",
   "execution_count": 28,
   "metadata": {},
   "outputs": [],
   "source": [
    "import librosa\n",
    "import os, gc\n",
    "import numpy as np\n",
    "import random\n",
    "\n",
    "from sklearn import svm\n",
    "from sklearn.neighbors import KNeighborsClassifier\n",
    "from sklearn.tree import DecisionTreeRegressor\n",
    "from sklearn.ensemble import AdaBoostRegressor\n",
    "from sklearn.model_selection import KFold\n",
    "from sklearn.metrics import classification_report, accuracy_score\n",
    "\n",
    "import xgboost as xgb"
   ]
  },
  {
   "cell_type": "code",
   "execution_count": 3,
   "metadata": {},
   "outputs": [
    {
     "name": "stdout",
     "output_type": "stream",
     "text": [
      "Walk on dir: genres\n",
      "Walk on dir: genres/pop\n",
      "Walk on dir: genres/blues\n",
      "Walk on dir: genres/classical\n",
      "Walk on dir: genres/country\n",
      "Walk on dir: genres/hiphop\n",
      "Walk on dir: genres/rock\n",
      "Walk on dir: genres/reggae\n",
      "Walk on dir: genres/metal\n",
      "Walk on dir: genres/disco\n",
      "Walk on dir: genres/jazz\n"
     ]
    }
   ],
   "source": [
    "walk_dir = \"genres\"\n",
    "\n",
    "Y = {'metal': 0, 'disco': 1, 'classical': 2, 'hiphop': 3, 'jazz': 4,\n",
    "     'country': 5, 'pop': 6, 'blues': 7, 'reggae': 8, 'rock': 9}\n",
    "\n",
    "all_input_data = []\n",
    "all_input_class = []\n",
    "for root, subdirs, files in os.walk(walk_dir):\n",
    "    print(\"Walk on dir:\",root)\n",
    "    for filename in files:\n",
    "        if filename.endswith('.au'):\n",
    "            file_path = os.path.join(root, filename)\n",
    "            ppFileName = file_path.replace(\".au\",\".pp\")\n",
    "            try:\n",
    "                signal, fs = librosa.load(file_path, offset=12, duration=6)\n",
    "                mfccs = librosa.feature.mfcc(signal, sr=fs, n_mfcc=12)\n",
    "                l = mfccs.shape[1]\n",
    "                mfccs = mfccs[:, int(0.2 * l):int(0.8 * l)]\n",
    "\n",
    "                mean = mfccs.mean(axis=1)\n",
    "                covar = np.cov(mfccs, rowvar=1)\n",
    "\n",
    "                mean.resize(1, mean.shape[0])\n",
    "                # it returns matrix.. not useful for machine learning algorithms except KNN\n",
    "                npArray = np.concatenate((mean, covar), axis=0)\n",
    "                templist = []\n",
    "                for ls in np.nditer(npArray):\n",
    "                    templist.append(ls)\n",
    "                    \n",
    "                all_input_data.append(templist)\n",
    "                all_input_class.append(Y[filename.split('.')[0]])\n",
    "\n",
    "            except Exception as e:\n",
    "                print (\"Error accured\" + str(e))"
   ]
  },
  {
   "cell_type": "markdown",
   "metadata": {},
   "source": [
    "### Shuffling all data"
   ]
  },
  {
   "cell_type": "code",
   "execution_count": 4,
   "metadata": {},
   "outputs": [
    {
     "name": "stdout",
     "output_type": "stream",
     "text": [
      "Shuffle input data to get better results\n",
      "->all_input_shuffledData: 1000\n",
      "->all_input_shuffledClass: 1000\n",
      "CPU times: user 6.7 ms, sys: 9.39 ms, total: 16.1 ms\n",
      "Wall time: 5.2 ms\n"
     ]
    }
   ],
   "source": [
    "%%time\n",
    "print(\"Shuffle input data to get better results\")\n",
    "\n",
    "c = list(zip(all_input_data, all_input_class))\n",
    "random.shuffle(c)\n",
    "all_input_shuffledData, all_input_shuffledClass= zip(*c)\n",
    "\n",
    "print(\"->all_input_shuffledData:\",len(all_input_shuffledData))\n",
    "print(\"->all_input_shuffledClass:\",len(all_input_class))"
   ]
  },
  {
   "cell_type": "markdown",
   "metadata": {},
   "source": [
    "### KNN"
   ]
  },
  {
   "cell_type": "code",
   "execution_count": 5,
   "metadata": {},
   "outputs": [
    {
     "name": "stdout",
     "output_type": "stream",
     "text": [
      "KNN Score:  0.295\n",
      "KNN Score:  0.39\n",
      "KNN Score:  0.385\n",
      "KNN Score:  0.36\n",
      "KNN Score:  0.335\n",
      "CPU times: user 247 ms, sys: 1.3 ms, total: 248 ms\n",
      "Wall time: 245 ms\n"
     ]
    }
   ],
   "source": [
    "%%time\n",
    "kf = KFold(n_splits=5)\n",
    "\n",
    "for trainIndex, testIndex in kf.split(all_input_data):\n",
    "    X_train, X_test = [all_input_shuffledData[i] for i in trainIndex], [all_input_shuffledData[i] for i in testIndex]\n",
    "    y_train, y_test = [all_input_shuffledClass[i] for i in trainIndex], [all_input_shuffledClass[i] for i in testIndex]\n",
    "    \n",
    "    knn = KNeighborsClassifier(n_neighbors=5, weights='uniform', algorithm='auto', leaf_size=30, p=2,metric='minkowski', metric_params=None, n_jobs=1)\n",
    "    knn.fit(X_train,y_train)\n",
    "    k_score = knn.score(X_test,y_test)\n",
    "    print(\"KNN Score: \", k_score)"
   ]
  },
  {
   "cell_type": "markdown",
   "metadata": {},
   "source": [
    "### SVM"
   ]
  },
  {
   "cell_type": "code",
   "execution_count": 6,
   "metadata": {},
   "outputs": [
    {
     "name": "stdout",
     "output_type": "stream",
     "text": [
      "Support Vector Machines:  0.47\n",
      "Support Vector Machines:  0.445\n",
      "Support Vector Machines:  0.43\n",
      "Support Vector Machines:  0.48\n",
      "Support Vector Machines:  0.45\n",
      "CPU times: user 8.25 s, sys: 8.49 ms, total: 8.26 s\n",
      "Wall time: 8.26 s\n"
     ]
    }
   ],
   "source": [
    "%%time\n",
    "kf = KFold(n_splits=5)\n",
    "\n",
    "for trainIndex, testIndex in kf.split(all_input_data):\n",
    "    X_train, X_test = [all_input_shuffledData[i] for i in trainIndex], [all_input_shuffledData[i] for i in testIndex]\n",
    "    y_train, y_test = [all_input_shuffledClass[i] for i in trainIndex], [all_input_shuffledClass[i] for i in testIndex]\n",
    "    \n",
    "    svm1 = svm.LinearSVC(C=10, loss='squared_hinge', penalty='l2', tol=0.00001)\n",
    "    svm1.fit(X_train,y_train)\n",
    "    scoreSVM = svm1.score(X_test, y_test)\n",
    "    print(\"Support Vector Machines: \", scoreSVM)   \n",
    "   "
   ]
  },
  {
   "cell_type": "markdown",
   "metadata": {},
   "source": [
    "### Decision Tree"
   ]
  },
  {
   "cell_type": "code",
   "execution_count": 7,
   "metadata": {},
   "outputs": [
    {
     "name": "stdout",
     "output_type": "stream",
     "text": [
      "Decision tree score1:  -0.15194172856058752 Adaboost score2:  0.13337219736576578\n",
      "Decision tree score1:  -0.3022702917376032 Adaboost score2:  0.23997628487530753\n",
      "Decision tree score1:  -0.12973617207173072 Adaboost score2:  0.27200884597091957\n",
      "Decision tree score1:  0.058347116760149365 Adaboost score2:  0.29419789609337654\n",
      "Decision tree score1:  -0.021905785158032876 Adaboost score2:  0.2960323341508614\n",
      "CPU times: user 42.2 s, sys: 335 µs, total: 42.2 s\n",
      "Wall time: 42.2 s\n"
     ]
    }
   ],
   "source": [
    "%%time\n",
    "kf = KFold(n_splits=5)\n",
    "\n",
    "for trainIndex, testIndex in kf.split(all_input_data):\n",
    "    X_train, X_test = [all_input_shuffledData[i] for i in trainIndex], [all_input_shuffledData[i] for i in testIndex]\n",
    "    y_train, y_test = [all_input_shuffledClass[i] for i in trainIndex], [all_input_shuffledClass[i] for i in testIndex]\n",
    "    \n",
    "    regr_1 = DecisionTreeRegressor(max_depth=6)\n",
    "    regr_2 = AdaBoostRegressor(DecisionTreeRegressor(max_depth=6), n_estimators=300)\n",
    "    regr_1.fit(X_train, y_train)\n",
    "    regr_2.fit(X_train, y_train)\n",
    "    y_1 = regr_1.predict(X_test)\n",
    "    y_2 = regr_2.predict(X_test)\n",
    "    score1 = regr_1.score(X_test, y_test)\n",
    "    score2 = regr_2.score(X_test, y_test)\n",
    "    print(\"Decision tree score1: \", score1, \"Adaboost score2: \", score2)\n"
   ]
  },
  {
   "cell_type": "markdown",
   "metadata": {},
   "source": [
    "### XGBoost"
   ]
  },
  {
   "cell_type": "code",
   "execution_count": 27,
   "metadata": {},
   "outputs": [
    {
     "name": "stdout",
     "output_type": "stream",
     "text": [
      "Accuracy Score: 0.615\n",
      "Accuracy Score: 0.63\n",
      "Accuracy Score: 0.58\n",
      "Accuracy Score: 0.64\n",
      "Accuracy Score: 0.68\n"
     ]
    }
   ],
   "source": [
    "kf = KFold(n_splits=5)\n",
    "\n",
    "for trainIndex, testIndex in kf.split(all_input_data):\n",
    "    X_train, X_test = [all_input_shuffledData[i] for i in trainIndex], [all_input_shuffledData[i] for i in testIndex]\n",
    "    y_train, y_test = [all_input_shuffledClass[i] for i in trainIndex], [all_input_shuffledClass[i] for i in testIndex]\n",
    "\n",
    "    xgb_params = {\n",
    "        'eta': 0.05,\n",
    "        'max_depth': 5,\n",
    "        'subsample': 0.9,\n",
    "        'objective': 'multi:softmax',\n",
    "        'silent': 1,\n",
    "        'colsample_bytree': 0.9,\n",
    "        'num_class':10\n",
    "    }\n",
    "\n",
    "    d_train = xgb.DMatrix(X_train, y_train)\n",
    "    d_valid = xgb.DMatrix(X_test, y_test)\n",
    "    \n",
    "    model = xgb.train(xgb_params, d_train, num_boost_round = 240)\n",
    "    pred_prob = model.predict(d_valid)\n",
    "    print('Accuracy Score:',accuracy_score(y_test, pred_prob))\n"
   ]
  },
  {
   "cell_type": "code",
   "execution_count": 29,
   "metadata": {},
   "outputs": [
    {
     "data": {
      "text/plain": [
       "1715"
      ]
     },
     "execution_count": 29,
     "metadata": {},
     "output_type": "execute_result"
    }
   ],
   "source": [
    "# run garbage collector manually\n",
    "gc.collect()"
   ]
  }
 ],
 "metadata": {
  "kernelspec": {
   "display_name": "Python 3",
   "language": "python",
   "name": "python3"
  },
  "language_info": {
   "codemirror_mode": {
    "name": "ipython",
    "version": 3
   },
   "file_extension": ".py",
   "mimetype": "text/x-python",
   "name": "python",
   "nbconvert_exporter": "python",
   "pygments_lexer": "ipython3",
   "version": "3.6.5"
  }
 },
 "nbformat": 4,
 "nbformat_minor": 2
}
