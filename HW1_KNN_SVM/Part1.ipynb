{
 "cells": [
  {
   "cell_type": "code",
   "execution_count": 938,
   "metadata": {},
   "outputs": [],
   "source": [
    "import math\n",
    "import random\n",
    "from sklearn.datasets import load_iris\n",
    "from sklearn.model_selection import train_test_split\n",
    "import operator\n",
    "from collections import Counter\n",
    "from sklearn.metrics import classification_report, accuracy_score\n",
    "from sklearn import svm\n",
    "from sklearn.metrics import confusion_matrix\n",
    "import matplotlib.pyplot as plt\n",
    "import itertools\n",
    "import numpy as np"
   ]
  },
  {
   "cell_type": "code",
   "execution_count": 860,
   "metadata": {},
   "outputs": [],
   "source": [
    "iris = load_iris()"
   ]
  },
  {
   "cell_type": "code",
   "execution_count": 838,
   "metadata": {},
   "outputs": [],
   "source": [
    "def plot_confusion_matrix(cm, classes,\n",
    "                          normalize=False,\n",
    "                          title='Confusion matrix',\n",
    "                          cmap=plt.cm.Blues):\n",
    "    \"\"\"\n",
    "    This function prints and plots the confusion matrix.\n",
    "    Normalization can be applied by setting `normalize=True`.\n",
    "    \"\"\"\n",
    "    if normalize:\n",
    "        cm = cm.astype('float') / cm.sum(axis=1)[:, np.newaxis]\n",
    "        print(\"Normalized confusion matrix\")\n",
    "    else:\n",
    "        print('Confusion matrix, without normalization')\n",
    "\n",
    "    print(cm)\n",
    "\n",
    "    plt.imshow(cm, interpolation='nearest', cmap=cmap)\n",
    "    plt.title(title)\n",
    "    plt.colorbar()\n",
    "    tick_marks = np.arange(len(classes))\n",
    "    plt.xticks(tick_marks, classes, rotation=45)\n",
    "    plt.yticks(tick_marks, classes)\n",
    "\n",
    "    fmt = '.2f' if normalize else 'd'\n",
    "    thresh = cm.max() / 2.\n",
    "    for i, j in itertools.product(range(cm.shape[0]), range(cm.shape[1])):\n",
    "        plt.text(j, i, format(cm[i, j], fmt),\n",
    "                 horizontalalignment=\"center\",\n",
    "                 color=\"white\" if cm[i, j] > thresh else \"black\")\n",
    "\n",
    "    plt.tight_layout()\n",
    "    plt.ylabel('True label')\n",
    "    plt.xlabel('Predicted label')"
   ]
  },
  {
   "cell_type": "code",
   "execution_count": 949,
   "metadata": {},
   "outputs": [],
   "source": [
    "def loadLeafData(fname):\n",
    "    targetClass = []\n",
    "    data = []\n",
    "    with open(fname,\"r\") as f:\n",
    "        lines = f.read().splitlines()\n",
    "        for line in lines:\n",
    "            tokens = line.split(\",\")\n",
    "            targetClass.append(int(tokens[0]))\n",
    "            specData = [float(token) for i, token in enumerate(tokens[1:])]\n",
    "            data.append(specData)\n",
    "    \n",
    "    combine = list(zip(data,targetClass))\n",
    "    random.shuffle(combine)\n",
    "    data, targetClass = zip(*combine)\n",
    "    return data, targetClass\n",
    "#d,t = loadLeafData(\"leaf.data\")\n",
    "#print(d[0],t[0])"
   ]
  },
  {
   "cell_type": "code",
   "execution_count": 910,
   "metadata": {},
   "outputs": [],
   "source": [
    "def kFoldCrossValidation(data, target, k, setIndex):\n",
    "    \"\"\"\n",
    "        K=5 Fold Cross Validation. Divide data  to 5 part and\n",
    "        return i th part of data\n",
    "    \"\"\"\n",
    "    totalData = len(data) \n",
    "    setSize = int(totalData/k)\n",
    "\n",
    "    startIndex = setSize*setIndex\n",
    "    endIndex = int(startIndex + setSize)\n",
    "    #print(\"TestData StartI:\",startIndex,\"\\nTestData EndIndex:\",endIndex)\n",
    "    \n",
    "    testSet = [list(d) for d in zip(data[startIndex:endIndex],target[startIndex:endIndex])]\n",
    "    #print(testSet)\n",
    "    trainSet = [ list(d) for i,d in enumerate(zip(data, target)) if (i<startIndex and i<=endIndex) or (i>=endIndex)]\n",
    "    return trainSet, testSet\n"
   ]
  },
  {
   "cell_type": "code",
   "execution_count": 911,
   "metadata": {},
   "outputs": [],
   "source": [
    "def calcEuclideanDistance(point1, point2):\n",
    "    \"\"\"\n",
    "        \\brief Calculate Euclidean Distance between two point\n",
    "        \\return Euclidean Distance\n",
    "    \"\"\"\n",
    "    dist = 0\n",
    "    # zip items and walk them on the same time, same order\n",
    "    for item1, item2 in zip(point1,point2):\n",
    "        dist += pow((item1-item2),2)\n",
    "    return math.sqrt(dist)"
   ]
  },
  {
   "cell_type": "code",
   "execution_count": 912,
   "metadata": {},
   "outputs": [],
   "source": [
    "def calcManhattanDistance(point1, point2):\n",
    "    \"\"\"\n",
    "        \\brief Calculate Manhattan Distance between two point\n",
    "        \\return Manhattan Distance\n",
    "    \"\"\"\n",
    "    dist = 0\n",
    "    for p1, p2 in zip(point1,point2):\n",
    "        dist += abs(p1-p2)\n",
    "    return dist"
   ]
  },
  {
   "cell_type": "code",
   "execution_count": 913,
   "metadata": {},
   "outputs": [],
   "source": [
    "def getNeighbours(train_data, test_data, k, distFunc):\n",
    "    dists = [ (data, distFunc(test_data, data[0])) for data in train_data]\n",
    "    dists.sort(key=operator.itemgetter(1))\n",
    "    return dists[:k]"
   ]
  },
  {
   "cell_type": "code",
   "execution_count": 914,
   "metadata": {},
   "outputs": [],
   "source": [
    "def getMaxOccurancedClass(neighbours):\n",
    "    classes = []\n",
    "    for item in neighbours:\n",
    "        classes.append(item[0][1])\n",
    "    return Counter(classes).most_common()[0][0]"
   ]
  },
  {
   "cell_type": "code",
   "execution_count": 915,
   "metadata": {},
   "outputs": [],
   "source": [
    "def kNNIris(distanceMethod):\n",
    "    k=5\n",
    "    allPredictions = []\n",
    "    allTargetTests = []\n",
    "    \n",
    "    totalAccScore = 0\n",
    "    for i in range(k):\n",
    "        trainData, testData  = kFoldCrossValidation(iris.data, iris.target, k, i)\n",
    "        irisTargetTest = [d[1] for d in testData]\n",
    "        predictions = []\n",
    "        for _tdata in testData:\n",
    "            neighbours = getNeighbours(trainData, _tdata[0],k, distanceMethod) \n",
    "            predictions.append(getMaxOccurancedClass(neighbours))\n",
    "        allPredictions += predictions\n",
    "        allTargetTests += irisTargetTest\n",
    "    return allTargetTests, allPredictions"
   ]
  },
  {
   "cell_type": "code",
   "execution_count": 954,
   "metadata": {},
   "outputs": [],
   "source": [
    "def kNNLeaf(distanceMethod,k):\n",
    "    allPredictions = []\n",
    "    allTargetTests = []\n",
    "    totalAccScore = 0\n",
    "    \n",
    "    leafData, leafTarget = loadLeafData(\"leaf.data\")\n",
    "        \n",
    "    for i in range(k):\n",
    "        trainData, testData  = kFoldCrossValidation(leafData, leafTarget, k, i)\n",
    "        #print(\"TrainData[0]:\",trainData[0])\n",
    "        #print(\"TestData[0]:\",testData[0][0])\n",
    "        predictions = []\n",
    "        maxOccurencedClass =0\n",
    "\n",
    "        for _tdata in testData:\n",
    "            neighbours = getNeighbours(trainData, _tdata[0],k, distanceMethod)\n",
    "            maxOccurencedClass = getMaxOccurancedClass(neighbours)\n",
    "            predictions.append(maxOccurencedClass)\n",
    "        allPredictions += predictions\n",
    "    return leafTarget, allPredictions\n",
    "    \"\"\"\n",
    "    leafDataTrain, leafDataTest, leafTargetTrain, leafTargetTest = train_test_split(leafData, leafTarget, test_size=0.3)\n",
    "    leafData = [ list(x) for x in zip(leafDataTrain, leafTargetTrain)]\n",
    "    leafTarget = [ list(x) for x in zip(leafDataTest,leafTargetTest)]\n",
    "        \n",
    "    predictions = []\n",
    "    maxOccurencedClass =0\n",
    "\n",
    "    for _tdata in leafTarget:\n",
    "        neighbours = getNeighbours(leafData, _tdata[0],k, distanceMethod)\n",
    "        maxOccurencedClass = getMaxOccurancedClass(neighbours)\n",
    "        predictions.append(maxOccurencedClass)\n",
    "    allPredictions += predictions\n",
    "    return [x[1] for x in leafTarget], allPredictions \n",
    "    \"\"\"\n",
    "#tests, predictions = kNNLeaf(calcEuclideanDistance,5)\n",
    "#print(tests)\n",
    "#print(predictions)"
   ]
  },
  {
   "cell_type": "code",
   "execution_count": 931,
   "metadata": {},
   "outputs": [
    {
     "name": "stdout",
     "output_type": "stream",
     "text": [
      "KNN IRIS Data Euclidean Accuracy: 0.9133333333333333\n",
      "             precision    recall  f1-score   support\n",
      "\n",
      "          0       1.00      1.00      1.00        50\n",
      "          1       0.85      0.90      0.87        50\n",
      "          2       0.89      0.84      0.87        50\n",
      "\n",
      "avg / total       0.91      0.91      0.91       150\n",
      "\n",
      "Normalized confusion matrix\n",
      "[[1.   0.   0.  ]\n",
      " [0.   0.9  0.1 ]\n",
      " [0.   0.16 0.84]]\n"
     ]
    },
    {
     "data": {
      "image/png": "[encoded data removed]",
      "text/plain": [
       "<Figure size 432x288 with 2 Axes>"
      ]
     },
     "metadata": {},
     "output_type": "display_data"
    }
   ],
   "source": [
    "def part1_iris():\n",
    "    k=5\n",
    "    \n",
    "    targetTests,predictions = kNNIris(calcEuclideanDistance)\n",
    "    report = classification_report(targetTests, predictions)\n",
    "    print(\"KNN IRIS Data Euclidean Accuracy:\",accuracy_score(targetTests,predictions))\n",
    "    print(report)\n",
    "    confMatrix = confusion_matrix(targetTests, predictions)\n",
    "    #confMatrix = confMatrix.astype('float') / confMatrix.sum(axis=1)[:, np.newaxis]\n",
    "    #print(confMatrix)\n",
    "    \n",
    "    plt.figure()\n",
    "    plot_confusion_matrix(confMatrix, classes=iris.target_names,\n",
    "                      title='Confusion matrix, with normalization', normalize=True)\n",
    "    plt.show()\n",
    "    \n",
    "\n",
    "part1_iris()"
   ]
  },
  {
   "cell_type": "code",
   "execution_count": 967,
   "metadata": {},
   "outputs": [
    {
     "name": "stdout",
     "output_type": "stream",
     "text": [
      "KNN LEAF Data Euclidean Accuracy: 0.12352941176470589\n",
      "             precision    recall  f1-score   support\n",
      "\n",
      "          1       0.00      0.00      0.00        12\n",
      "          2       0.00      0.00      0.00        10\n",
      "          3       0.00      0.00      0.00        10\n",
      "          4       0.00      0.00      0.00         8\n",
      "          5       0.00      0.00      0.00        12\n",
      "          6       0.20      0.25      0.22         8\n",
      "          7       0.00      0.00      0.00        10\n",
      "          8       0.85      1.00      0.92        11\n",
      "          9       0.00      0.00      0.00        14\n",
      "         10       0.00      0.00      0.00        13\n",
      "         11       0.58      0.69      0.63        16\n",
      "         12       0.00      0.00      0.00        12\n",
      "         13       0.00      0.00      0.00        13\n",
      "         14       0.17      0.08      0.11        12\n",
      "         15       0.00      0.00      0.00        10\n",
      "         22       0.00      0.00      0.00        12\n",
      "         23       1.00      0.09      0.17        11\n",
      "         24       0.02      0.08      0.03        13\n",
      "         25       0.00      0.00      0.00         9\n",
      "         26       0.00      0.00      0.00        12\n",
      "         27       0.00      0.00      0.00        11\n",
      "         28       0.00      0.00      0.00        12\n",
      "         29       0.00      0.00      0.00        12\n",
      "         30       0.00      0.00      0.00        12\n",
      "         31       0.67      0.36      0.47        11\n",
      "         32       0.00      0.00      0.00        11\n",
      "         33       0.00      0.00      0.00        11\n",
      "         34       0.64      0.82      0.72        11\n",
      "         35       0.00      0.00      0.00        11\n",
      "         36       0.33      0.20      0.25        10\n",
      "\n",
      "avg / total       0.15      0.12      0.12       340\n",
      "\n"
     ]
    },
    {
     "name": "stderr",
     "output_type": "stream",
     "text": [
      "/home/hmenn/Workspace/CSE455_MachineLearning_2018/venv/lib/python3.5/site-packages/sklearn/metrics/classification.py:1135: UndefinedMetricWarning: Precision and F-score are ill-defined and being set to 0.0 in labels with no predicted samples.\n",
      "  'precision', 'predicted', average, warn_for)\n"
     ]
    }
   ],
   "source": [
    "def part1_leaf():\n",
    "    k=5\n",
    "    targetTests,predictions = kNNLeaf(calcEuclideanDistance,k)\n",
    "    report = classification_report(targetTests, predictions)\n",
    "    print(\"KNN LEAF Data Euclidean Accuracy:\",accuracy_score(targetTests,predictions))\n",
    "    print(report)\n",
    "    \"\"\"\n",
    "    confMatrix = confusion_matrix(targetTests, predictions)\n",
    "    confMatrix = confMatrix.astype('float') / confMatrix.sum(axis=1)[:, np.newaxis]\n",
    "    print(targetTests,predictions)\n",
    "    print(confMatrix)\n",
    "    plt.figure()\n",
    "    plot_confusion_matrix(confMatrix, classes=[x for x in range(1,16)],\n",
    "                      title='Confusion matrix, with normalization', normalize=True)\n",
    "    plt.show()\n",
    "    \"\"\"\n",
    "part1_leaf()"
   ]
  },
  {
   "cell_type": "code",
   "execution_count": 968,
   "metadata": {},
   "outputs": [
    {
     "name": "stdout",
     "output_type": "stream",
     "text": [
      "KNN IRIS Data Manhattan Accuracy: 0.92\n",
      "             precision    recall  f1-score   support\n",
      "\n",
      "          0       1.00      1.00      1.00        50\n",
      "          1       0.85      0.92      0.88        50\n",
      "          2       0.91      0.84      0.87        50\n",
      "\n",
      "avg / total       0.92      0.92      0.92       150\n",
      "\n",
      "Normalized confusion matrix\n",
      "[[1.   0.   0.  ]\n",
      " [0.   0.92 0.08]\n",
      " [0.   0.16 0.84]]\n"
     ]
    },
    {
     "data": {
      "image/png": "[encoded data removed]",
      "text/plain": [
       "<Figure size 432x288 with 2 Axes>"
      ]
     },
     "metadata": {},
     "output_type": "display_data"
    }
   ],
   "source": [
    "def part2_iris():\n",
    "    k=5\n",
    "    \n",
    "    targetTests,predictions = kNNIris(calcManhattanDistance)\n",
    "    report = classification_report(targetTests, predictions)\n",
    "    print(\"KNN IRIS Data Manhattan Accuracy:\",accuracy_score(targetTests,predictions))\n",
    "    print(report)\n",
    "    confMatrix = confusion_matrix(targetTests, predictions)\n",
    "    plt.figure()\n",
    "    plot_confusion_matrix(confMatrix, classes=iris.target_names,\n",
    "                      title='Confusion matrix, with normalization', normalize=True)\n",
    "    plt.show()\n",
    "\n",
    "part2_iris()"
   ]
  },
  {
   "cell_type": "code",
   "execution_count": 976,
   "metadata": {},
   "outputs": [
    {
     "name": "stdout",
     "output_type": "stream",
     "text": [
      "KNN LEAF Data Manhattan Accuracy: 0.21470588235294116\n",
      "             precision    recall  f1-score   support\n",
      "\n",
      "          1       0.05      0.08      0.06        12\n",
      "          2       0.00      0.00      0.00        10\n",
      "          3       0.08      0.10      0.09        10\n",
      "          4       0.00      0.00      0.00         8\n",
      "          5       0.40      0.17      0.24        12\n",
      "          6       0.33      0.38      0.35         8\n",
      "          7       0.00      0.00      0.00        10\n",
      "          8       1.00      1.00      1.00        11\n",
      "          9       0.29      0.36      0.32        14\n",
      "         10       0.17      0.08      0.11        13\n",
      "         11       0.59      0.62      0.61        16\n",
      "         12       0.20      0.17      0.18        12\n",
      "         13       0.25      0.08      0.12        13\n",
      "         14       0.00      0.00      0.00        12\n",
      "         15       0.80      0.40      0.53        10\n",
      "         22       0.00      0.00      0.00        12\n",
      "         23       1.00      0.36      0.53        11\n",
      "         24       0.04      0.15      0.06        13\n",
      "         25       0.08      0.11      0.09         9\n",
      "         26       0.00      0.00      0.00        12\n",
      "         27       0.00      0.00      0.00        11\n",
      "         28       0.14      0.08      0.11        12\n",
      "         29       0.67      0.17      0.27        12\n",
      "         30       0.00      0.00      0.00        12\n",
      "         31       0.56      0.45      0.50        11\n",
      "         32       0.06      0.27      0.10        11\n",
      "         33       0.00      0.00      0.00        11\n",
      "         34       0.54      0.64      0.58        11\n",
      "         35       0.00      0.00      0.00        11\n",
      "         36       0.78      0.70      0.74        10\n",
      "\n",
      "avg / total       0.27      0.21      0.22       340\n",
      "\n"
     ]
    },
    {
     "name": "stderr",
     "output_type": "stream",
     "text": [
      "/home/hmenn/Workspace/CSE455_MachineLearning_2018/venv/lib/python3.5/site-packages/sklearn/metrics/classification.py:1135: UndefinedMetricWarning: Precision and F-score are ill-defined and being set to 0.0 in labels with no predicted samples.\n",
      "  'precision', 'predicted', average, warn_for)\n"
     ]
    }
   ],
   "source": [
    "def part2_leaf():\n",
    "    k=5\n",
    "    targetTests,predictions = kNNLeaf(calcManhattanDistance,k)\n",
    "    report = classification_report(targetTests, predictions)\n",
    "    print(\"KNN LEAF Data Manhattan Accuracy:\",accuracy_score(targetTests,predictions))\n",
    "    print(report)\n",
    "    \"\"\"\n",
    "    confMatrix = confusion_matrix(targetTests, predictions)\n",
    "    plt.figure()\n",
    "    plot_confusion_matrix(confMatrix, classes=[x for x in range(14)],\n",
    "                      title='Confusion matrix, with normalization', normalize=True)\n",
    "    plt.show()\n",
    "    \"\"\"\n",
    "part2_leaf()"
   ]
  },
  {
   "cell_type": "code",
   "execution_count": 972,
   "metadata": {},
   "outputs": [],
   "source": [
    "## DEVELOPER AREA - PLEASE DO NOT TOUCH OR RUN\n",
    "def developerTests():\n",
    "    \n",
    "    # split data, %30->test %70->train\n",
    "    #irisDataTrain, irisDataTest, irisTargetTrain, irisTargetTest = train_test_split(iris.data, iris.target, test_size=0.3)\n",
    "    #print(irisTargetTest)\n",
    "    #trainData = [ list(x) for x in zip(irisDataTrain, irisTargetTrain)]\n",
    "    #testData = [ list(x) for x in zip(irisDataTest,irisTargetTest)]\n",
    "    #print(iris.data[0],iris.data[30],iris.data[60],iris.data[90],iris.data[120])\n",
    "\n",
    "    k=5\n",
    "    trainData, testData  = kFoldCrossValidation(iris.data, iris.target, k, 0)\n",
    "    #Print example 1 train data\n",
    "    print(\"TrainData[0]:\",trainData[0])\n",
    "    #Print example 1 test data\n",
    "    print(\"TestData[0]:\",testData[0])\n",
    "    \n",
    "    # Test Euclidean Distance\n",
    "    distance = calcEuclideanDistance(trainData[0][0],testData[0][0])\n",
    "    print(\"EuclideanDistance:\",distance)\n",
    "    # Test Manhattan Distance\n",
    "    distance = calcManhattanDistance(trainData[0][0],testData[0][0])\n",
    "    print(\"ManhattanDistance:\",distance)\n",
    "    \n",
    "    neighboursEuc = getNeighbours(trainData, testData[0][0],5,calcEuclideanDistance)\n",
    "    print(\"First Neighbour(Euclidean):\",neighboursEuc[0])\n",
    "    neighboursMan = getNeighbours(trainData, testData[0][0],5,calcManhattanDistance)\n",
    "    print(\"First Neighbour(Manhattan):\",neighboursMan[0])\n",
    "        \n",
    "    ## TEST KNN-5 IrisData - Euclidead Dist\n",
    "    predictions = []\n",
    "\n",
    "    for _tdata in testData:\n",
    "        # get neighbours for all test data\n",
    "        neighbours = getNeighbours(trainData, _tdata[0],k, calcEuclideanDistance) \n",
    "        predictions.append(getMaxOccurancedClass(neighbours))\n",
    "        \n",
    "    print(\"\\n->Report for EuclideanDistance KNN:5 on iris data\")\n",
    "    irisTargetTest = [d[1] for d in testData]\n",
    "    accScore = accuracy_score(irisTargetTest,predictions)\n",
    "    print(accScore)\n",
    "    report = classification_report(irisTargetTest,predictions)\n",
    "    print(report)\n",
    "\n",
    "    ## TEST KNN-5 IrisData - Manhattan Dist\n",
    "    k=5\n",
    "    predictions = []\n",
    "\n",
    "    for _tdata in testData:\n",
    "        # get neighbours for all test data\n",
    "        neighbours = getNeighbours(trainData, _tdata[0],k, calcManhattanDistance) \n",
    "        predictions.append(getMaxOccurancedClass(neighbours))\n",
    "    \n",
    "    print(\"\\n->Report for ManhattanDistance KNN:5 on iris data\")\n",
    "    accScore = accuracy_score(irisTargetTest,predictions)\n",
    "    print(accScore)\n",
    "    report = classification_report(irisTargetTest,predictions)\n",
    "    print(report)\n",
    "    \n",
    "#developerTests()"
   ]
  },
  {
   "cell_type": "code",
   "execution_count": null,
   "metadata": {},
   "outputs": [],
   "source": []
  }
 ],
 "metadata": {
  "kernelspec": {
   "display_name": "MachineLearn",
   "language": "python",
   "name": "machinelearn"
  },
  "language_info": {
   "codemirror_mode": {
    "name": "ipython",
    "version": 3
   },
   "file_extension": ".py",
   "mimetype": "text/x-python",
   "name": "python",
   "nbconvert_exporter": "python",
   "pygments_lexer": "ipython3",
   "version": "3.5.2"
  }
 },
 "nbformat": 4,
 "nbformat_minor": 2
}
