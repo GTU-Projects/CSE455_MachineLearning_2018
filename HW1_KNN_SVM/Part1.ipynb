{
 "cells": [
  {
   "cell_type": "code",
   "execution_count": 287,
   "metadata": {},
   "outputs": [],
   "source": [
    "import random\n",
    "import math\n",
    "import numpy as np\n",
    "from sklearn.datasets import load_iris\n",
    "from sklearn.model_selection import train_test_split\n",
    "import operator\n",
    "from collections import Counter\n",
    "from sklearn.metrics import classification_report, accuracy_score"
   ]
  },
  {
   "cell_type": "code",
   "execution_count": 288,
   "metadata": {},
   "outputs": [],
   "source": [
    "iris = load_iris()"
   ]
  },
  {
   "cell_type": "code",
   "execution_count": 289,
   "metadata": {},
   "outputs": [],
   "source": [
    "# split data, %30->test %70->train\n",
    "irisDataTrain, irisDataTest, irisTargetTrain, irisTargetTest = train_test_split(iris.data, iris.target, test_size=0.3)\n",
    "trainData = [ list(x) for x in zip(irisDataTrain, irisTargetTrain)]\n",
    "testData = [ list(x) for x in zip(irisDataTest,irisTargetTest)]"
   ]
  },
  {
   "cell_type": "code",
   "execution_count": 321,
   "metadata": {},
   "outputs": [],
   "source": [
    "def calcEuclideanDistance(point1, point2):\n",
    "    \"\"\"\n",
    "        \\brief Calculate Euclidean Distance between two point\n",
    "        \\return Euclidean Distance\n",
    "    \"\"\"\n",
    "    dist = 0\n",
    "    # zip items and walk them on the same time, same order\n",
    "    for item1, item2 in zip(point1,point2):\n",
    "        dist += pow((item1-item2),2)\n",
    "    return math.sqrt(dist)"
   ]
  },
  {
   "cell_type": "code",
   "execution_count": 325,
   "metadata": {},
   "outputs": [],
   "source": [
    "def calcManhattanDistance(point1, point2):\n",
    "    \"\"\"\n",
    "        \\brief Calculate Manhattan Distance between two point\n",
    "        \\return Manhattan Distance\n",
    "    \"\"\"\n",
    "    dist = 0\n",
    "    for p1, p2 in zip(point1,point2):\n",
    "        dist += abs(p1-p2)\n",
    "    return dist"
   ]
  },
  {
   "cell_type": "code",
   "execution_count": 327,
   "metadata": {},
   "outputs": [],
   "source": [
    "def getNeighbours(train_data, test_data, k, distFunc):\n",
    "    dists = [ (data, distFunc(test_data, data[0])) for data in train_data]\n",
    "    dists.sort(key=operator.itemgetter(1))\n",
    "    return dists[:k]"
   ]
  },
  {
   "cell_type": "code",
   "execution_count": 342,
   "metadata": {},
   "outputs": [],
   "source": [
    "def getAccuracy(testSet, predictions):\n",
    "    correct = 0\n",
    "    for i, predict in zip(testSet,predictions):\n",
    "        if i[1] == predict:\n",
    "            correct += 1\n",
    "    return (correct/float(len(testSet))) * 100.0"
   ]
  },
  {
   "cell_type": "code",
   "execution_count": 332,
   "metadata": {},
   "outputs": [],
   "source": [
    "def getMaxOccurancedClass(neighbours):\n",
    "    classes = []\n",
    "    for item in neighbours:\n",
    "        classes.append(item[0][1])\n",
    "    return Counter(classes).most_common()[0][0]"
   ]
  },
  {
   "cell_type": "code",
   "execution_count": 345,
   "metadata": {},
   "outputs": [
    {
     "name": "stdout",
     "output_type": "stream",
     "text": [
      "TrainData[0]: [array([6.4, 3.2, 4.5, 1.5]), 1]\n",
      "TestData[0]: [array([7.9, 3.8, 6.4, 2. ]), 2]\n",
      "EuclideanDistance: 2.543619468395381\n",
      "ManhattanDistance: 4.5\n",
      "First Neighbour(Euclidean): ([array([7.7, 3.8, 6.7, 2.2]), 2], 0.4123105625617661)\n",
      "First Neighbour(Manhattan): ([array([7.7, 3.8, 6.7, 2.2]), 2], 0.7000000000000002)\n",
      "\n",
      "->Report for EuclideanDistance KNN:5 on iris data\n",
      "->Accuracy: 93.33333333333333\n",
      "             precision    recall  f1-score   support\n",
      "\n",
      "     setosa       1.00      1.00      1.00        15\n",
      " versicolor       0.94      0.89      0.91        18\n",
      "  virginica       0.85      0.92      0.88        12\n",
      "\n",
      "avg / total       0.94      0.93      0.93        45\n",
      "\n",
      "\n",
      "->Report for ManhattanDistance KNN:5 on iris data\n",
      "->Accuracy: 95.55555555555556\n",
      "             precision    recall  f1-score   support\n",
      "\n",
      "     setosa       1.00      1.00      1.00        15\n",
      " versicolor       0.94      0.94      0.94        18\n",
      "  virginica       0.92      0.92      0.92        12\n",
      "\n",
      "avg / total       0.96      0.96      0.96        45\n",
      "\n"
     ]
    }
   ],
   "source": [
    "def developerTests():\n",
    "    #Print example 1 train data\n",
    "    print(\"TrainData[0]:\",trainData[0])\n",
    "    #Print example 1 test data\n",
    "    print(\"TestData[0]:\",testData[0])\n",
    "    \n",
    "    # Test Euclidean Distance\n",
    "    distance = calcEuclideanDistance(trainData[0][0],testData[0][0])\n",
    "    print(\"EuclideanDistance:\",distance)\n",
    "    # Test Manhattan Distance\n",
    "    distance = calcManhattanDistance(trainData[0][0],testData[0][0])\n",
    "    print(\"ManhattanDistance:\",distance)\n",
    "    \n",
    "    neighboursEuc = getNeighbours(trainData, testData[0][0],5,calcEuclideanDistance)\n",
    "    print(\"First Neighbour(Euclidean):\",neighboursEuc[0])\n",
    "    neighboursMan = getNeighbours(trainData, testData[0][0],5,calcManhattanDistance)\n",
    "    print(\"First Neighbour(Manhattan):\",neighboursMan[0])\n",
    "        \n",
    "    ## TEST KNN-5 IrisData - Euclidead Dist\n",
    "    k=5\n",
    "    predictions = []\n",
    "\n",
    "    for _tdata in testData:\n",
    "        # get neighbours for all test data\n",
    "        neighbours = getNeighbours(trainData, _tdata[0],k, calcEuclideanDistance) \n",
    "        predictions.append(getMaxOccurancedClass(neighbours))\n",
    "        \n",
    "    print(\"\\n->Report for EuclideanDistance KNN:5 on iris data\")\n",
    "    print(\"->Accuracy:\",getAccuracy(testData, predictions))\n",
    "    report = classification_report(irisTargetTest,predictions,target_names = iris.target_names )\n",
    "    print(report)\n",
    "\n",
    "    ## TEST KNN-5 IrisData - Manhattan Dist\n",
    "    k=5\n",
    "    predictions = []\n",
    "\n",
    "    for _tdata in testData:\n",
    "        # get neighbours for all test data\n",
    "        neighbours = getNeighbours(trainData, _tdata[0],k, calcManhattanDistance) \n",
    "        predictions.append(getMaxOccurancedClass(neighbours))\n",
    "    \n",
    "    print(\"\\n->Report for ManhattanDistance KNN:5 on iris data\")\n",
    "    print(\"->Accuracy:\",getAccuracy(testData, predictions))\n",
    "    report = classification_report(irisTargetTest,predictions,target_names = iris.target_names )\n",
    "    print(report)\n",
    "    \n",
    "developerTests()"
   ]
  },
  {
   "cell_type": "code",
   "execution_count": null,
   "metadata": {},
   "outputs": [],
   "source": []
  }
 ],
 "metadata": {
  "kernelspec": {
   "display_name": "MachineLearn",
   "language": "python",
   "name": "machinelearn"
  },
  "language_info": {
   "codemirror_mode": {
    "name": "ipython",
    "version": 3
   },
   "file_extension": ".py",
   "mimetype": "text/x-python",
   "name": "python",
   "nbconvert_exporter": "python",
   "pygments_lexer": "ipython3",
   "version": "3.5.2"
  }
 },
 "nbformat": 4,
 "nbformat_minor": 2
}
